{
 "cells": [
  {
   "cell_type": "markdown",
   "id": "a60df444-4ee5-4837-98e6-7eca1c4a6977",
   "metadata": {},
   "source": [
    "## Resumen del Notebook: etiquetas_parte_1\n",
    "\n",
    "### Objetivo:\n",
    "Analizar reseñas de clientes de hoteles para categorizarlas en base a su contenido, utilizando técnicas de NLP.\n",
    "\n",
    "### Proceso:\n",
    "Definición de Categorías:\n",
    "\n",
    "Establecimos categorías basadas en quejas comunes de clientes de hoteles.\n",
    "Las categorías se expandieron para abordar aspectos tanto negativos como positivos.\n",
    "Se usaron prefijos \"n_\" para categorías negativas y \"p_\" para categorías positivas.\n",
    "Preparación de Datos:\n",
    "\n",
    "Tomamos una muestra aleatoria del 2% de las reseñas para hacer el análisis y modelado iniciales.\n",
    "Convertimos las reseñas a embeddings utilizando FastText.\n",
    "\n",
    "Similitud de Coseno:\n",
    "\n",
    "Calculamos la similitud de coseno entre cada reseña (en forma de embedding) y las palabras clave de cada categoría para determinar la categoría más similar para cada reseña.\n",
    "Asignamos la categoría con la similitud más alta a cada reseña.\n",
    "\n",
    "Visualización:\n",
    "\n",
    "Mostramos un subconjunto del DataFrame para revisar las reseñas y sus categorías asignadas.\n",
    "\n",
    "### Posibles Pasos Futuros:\n",
    "Utilizar las categorías asignadas a la muestra del 2% para entrenar un modelo de clasificación supervisado.\n",
    "Usar dicho modelo para predecir las categorías de las reseñas restantes en el conjunto de datos.\n",
    "Refinar las categorías o palabras clave según sea necesario, basándose en la retroalimentación y los resultados obtenidos."
   ]
  },
  {
   "cell_type": "code",
   "execution_count": 1,
   "id": "2ef1c4f7-4c6e-4f35-af56-564b92409486",
   "metadata": {},
   "outputs": [],
   "source": [
    "import pandas as pd\n",
    "\n",
    "# Cargar el DataFrame\n",
    "df = pd.read_parquet(\"tabla_final_hoteles_google_yelp.parquet\")\n",
    "\n",
    "# Filtrar el DataFrame para mantener solo las filas donde 'comentario' no es una cadena vacía\n",
    "df = df[df['comentario'] != '']\n",
    "\n",
    "# Tomar una muestra aleatoria del 2%\n",
    "df_sample = df.sample(frac=0.02, random_state=42)\n"
   ]
  },
  {
   "cell_type": "code",
   "execution_count": 2,
   "id": "35d3464f-3115-4443-aee0-132135e2c985",
   "metadata": {},
   "outputs": [
    {
     "data": {
      "text/plain": [
       "(3333, 5)"
      ]
     },
     "execution_count": 2,
     "metadata": {},
     "output_type": "execute_result"
    }
   ],
   "source": [
    "df_sample.shape"
   ]
  },
  {
   "cell_type": "code",
   "execution_count": 3,
   "id": "99bb9361-9510-412d-b21b-7abff33c0a53",
   "metadata": {},
   "outputs": [],
   "source": [
    "import re\n",
    "\n",
    "df_sample['comentario'] = df_sample['comentario'].str.lower()  # Convertir a minúsculas\n",
    "df_sample['comentario'] = df_sample['comentario'].apply(lambda x: re.sub(r'[^a-zA-Z\\s]', '', x))  # Eliminar signos de puntuación\n"
   ]
  },
  {
   "cell_type": "code",
   "execution_count": 4,
   "id": "3fb224d7-2906-494c-84e4-3f22638e9798",
   "metadata": {},
   "outputs": [],
   "source": [
    "#!pip install fasttext"
   ]
  },
  {
   "cell_type": "code",
   "execution_count": 5,
   "id": "9a0ed168-fab7-4255-bade-f431bf7481a4",
   "metadata": {},
   "outputs": [
    {
     "name": "stderr",
     "output_type": "stream",
     "text": [
      "Read 0M words\n",
      "Number of words:  4227\n",
      "Number of labels: 0\n",
      "Progress: 100.0% words/sec/thread:   27958 lr:  0.000000 avg.loss:  2.546410 ETA:   0h 0m 0s\n"
     ]
    }
   ],
   "source": [
    "import fasttext\n",
    "\n",
    "df_sample['comentario'].to_csv(\"fasttext_input_sample.txt\", index=False, header=None)\n",
    "\n",
    "model = fasttext.train_unsupervised(\"fasttext_input_sample.txt\", model=\"skipgram\")\n"
   ]
  },
  {
   "cell_type": "code",
   "execution_count": 6,
   "id": "697795de-2986-44e1-8e74-4eec0b0257fa",
   "metadata": {},
   "outputs": [],
   "source": [
    "def get_vector(text, model):\n",
    "    # Eliminar los saltos de línea del texto\n",
    "    clean_text = text.replace('\\n', ' ')\n",
    "    return model.get_sentence_vector(clean_text)\n",
    "\n",
    "df_sample['embedding'] = df_sample['comentario'].apply(lambda x: get_vector(x, model))\n"
   ]
  },
  {
   "cell_type": "code",
   "execution_count": 7,
   "id": "55ff0796-77dd-465a-9e3b-b7ef20b7952b",
   "metadata": {},
   "outputs": [
    {
     "name": "stdout",
     "output_type": "stream",
     "text": [
      "Número de listas embedding con NaNs: 0\n"
     ]
    }
   ],
   "source": [
    "nan_in_embedding = df_sample['embedding'].apply(lambda x: any(pd.isna(x))).sum()\n",
    "print(f'Número de listas embedding con NaNs: {nan_in_embedding}')"
   ]
  },
  {
   "cell_type": "code",
   "execution_count": 8,
   "id": "6e15134e-df71-4d1d-bfb5-39bf4374875f",
   "metadata": {},
   "outputs": [],
   "source": [
    "clasificaciones = {\n",
    "    \"n_Higiene\": [\"smell of smoking rooms\", \"bed bugs\", \"black mold\", \"musty smells\", \"cigarette burns\", \"bug bites\", \"blood stains\", \"trash\", \"dirty carpet\", \"cockroaches\", \"dust\", \"stains\", \"dirty linens\"],\n",
    "    \"n_Mantenimiento\": [\"broken or dirty toilets seats\", \"broken hair dryers\", \"water damage\", \"cold water\", \"hot air\", \"cold air\", \"faulty lighting\", \"broken furniture\", \"chipped paint\"],\n",
    "    \"n_Servicio\": [\"poor service\", \"rude staff\", \"third party booking services\", \"wrong rooms\", \"slow check-in\", \"incorrect charges\", \"unresponsive staff\"],\n",
    "    \"n_Suministros\": [\"not enough toilet paper\", \"no toilet paper\", \"lack of towels\", \"empty minibar\"], \n",
    "    \"n_Aislamiento\": [\"thin walls\", \"noisy neighbors\", \"street noise\", \"creaky floors\"],\n",
    "    \"n_Confort\": [\"uncomfortable bed\", \"cramped room\", \"outdated decor\", \"unpleasant odors\", \"hard mattress\"],\n",
    "    \"n_Limpieza\": [\"dirty room\", \"poor maintenance\", \"stained linens\", \"clogged drains\", \"unclean bathroom\"],\n",
    "    \"n_Atención al cliente\": [\"unfriendly staff\", \"unhelpful staff\", \"indifferent service\", \"cold reception\", \"inattentive staff\"],\n",
    "    \"n_Facilidades\": [\"lacking amenities\", \"dirty pool\", \"broken gym equipment\", \"poor Wi-Fi connection\", \"limited parking\"],\n",
    "    \"n_Ubicación\": [\"bad location\", \"too far from downtown\", \"far from attractions\", \"inconvenient location\", \"noisy street\"],\n",
    "    \"n_Valor\": [\"overpriced\", \"not worth the price\", \"expensive for what you get\", \"hidden charges\"],\n",
    "    \"n_Experiencia gastronómica\": [\"bad breakfast\", \"unpalatable meals\", \"limited buffet choices\", \"stale food\", \"poor restaurant service\"],\n",
    "    \"n_Ambiente\": [\"dated decor\", \"stale atmosphere\", \"unpleasant ambiance\", \"bad views\", \"loud interiors\"],\n",
    "    \"p_Confort\": [\"comfortable bed\", \"spacious room\", \"modern decor\", \"pleasant aroma\", \"soft mattress\"],\n",
    "    \"p_Limpieza\": [\"clean room\", \"well-maintained\", \"fresh linens\", \"clean drains\", \"spotless bathroom\"],\n",
    "    \"p_Atención al cliente\": [\"friendly staff\", \"helpful staff\", \"warm reception\", \"attentive staff\"],\n",
    "    \"p_Facilidades\": [\"excellent amenities\", \"clean pool\", \"modern gym equipment\", \"strong Wi-Fi connection\", \"ample parking\"],\n",
    "    \"p_Ubicación\": [\"great location\", \"close to downtown\", \"near attractions\", \"convenient location\", \"quiet street\"],\n",
    "    \"p_Valor\": [\"good value\", \"worth the price\", \"budget-friendly\", \"no hidden charges\"],\n",
    "    \"p_Experiencia gastronómica\": [\"delicious breakfast\", \"tasty meals\", \"varied buffet choices\", \"fresh food\", \"excellent restaurant service\"],\n",
    "    \"p_Ambiente\": [\"modern decor\", \"vibrant atmosphere\", \"pleasant ambiance\", \"beautiful views\", \"quiet interiors\"]\n",
    "}\n",
    "\n",
    "\n",
    "clasificaciones_embeddings = {key: [model.get_sentence_vector(word) for word in words] for key, words in clasificaciones.items()}\n"
   ]
  },
  {
   "cell_type": "code",
   "execution_count": 9,
   "id": "d8fca27b-481f-45b5-954e-b8b6bbd16a5f",
   "metadata": {},
   "outputs": [],
   "source": [
    "#!pip install scikit-learn"
   ]
  },
  {
   "cell_type": "code",
   "execution_count": 10,
   "id": "ccbb087b-696e-4506-a7ad-159c999b9326",
   "metadata": {},
   "outputs": [],
   "source": [
    "from sklearn.metrics.pairwise import cosine_similarity\n",
    "\n",
    "def get_most_similar_category(review_embedding, clasificaciones_embeddings):\n",
    "    max_similarity = -float('inf')\n",
    "    best_category = None\n",
    "    \n",
    "    for category, embeddings in clasificaciones_embeddings.items():\n",
    "        for word_embedding in embeddings:\n",
    "            similarity = cosine_similarity([review_embedding], [word_embedding])[0][0]\n",
    "            if similarity > max_similarity:\n",
    "                max_similarity = similarity\n",
    "                best_category = category\n",
    "    return best_category\n"
   ]
  },
  {
   "cell_type": "code",
   "execution_count": 11,
   "id": "510775ef-3755-4116-8e9f-b54573ad2217",
   "metadata": {},
   "outputs": [],
   "source": [
    "df_sample['categoria'] = df_sample['embedding'].apply(lambda x: get_most_similar_category(x, clasificaciones_embeddings))\n"
   ]
  },
  {
   "cell_type": "code",
   "execution_count": 12,
   "id": "3b785a3e-4c13-4d30-b536-9b86a9059e1c",
   "metadata": {},
   "outputs": [
    {
     "data": {
      "text/html": [
       "<div>\n",
       "<style scoped>\n",
       "    .dataframe tbody tr th:only-of-type {\n",
       "        vertical-align: middle;\n",
       "    }\n",
       "\n",
       "    .dataframe tbody tr th {\n",
       "        vertical-align: top;\n",
       "    }\n",
       "\n",
       "    .dataframe thead th {\n",
       "        text-align: right;\n",
       "    }\n",
       "</style>\n",
       "<table border=\"1\" class=\"dataframe\">\n",
       "  <thead>\n",
       "    <tr style=\"text-align: right;\">\n",
       "      <th></th>\n",
       "      <th>business_id</th>\n",
       "      <th>rating</th>\n",
       "      <th>comentario</th>\n",
       "      <th>ciudad</th>\n",
       "      <th>estado</th>\n",
       "      <th>embedding</th>\n",
       "      <th>categoria</th>\n",
       "    </tr>\n",
       "  </thead>\n",
       "  <tbody>\n",
       "    <tr>\n",
       "      <th>26421</th>\n",
       "      <td>Kxg8HBv9X2kfz_JQuZzmDw</td>\n",
       "      <td>3.0</td>\n",
       "      <td>the area is kind of sketchy and when youre fir...</td>\n",
       "      <td>New Orleans</td>\n",
       "      <td>Louisiana</td>\n",
       "      <td>[0.035103217, -0.080136076, -0.038549528, 0.03...</td>\n",
       "      <td>n_Ambiente</td>\n",
       "    </tr>\n",
       "    <tr>\n",
       "      <th>20950</th>\n",
       "      <td>1I_qcjb-UuAiA7kwT_xPCA</td>\n",
       "      <td>3.0</td>\n",
       "      <td>pros\\nawesome indoor and outdoor pool  and ind...</td>\n",
       "      <td>Nashville</td>\n",
       "      <td>Tennessee</td>\n",
       "      <td>[0.040991627, -0.056416266, -0.05178736, 0.023...</td>\n",
       "      <td>n_Ambiente</td>\n",
       "    </tr>\n",
       "    <tr>\n",
       "      <th>176884</th>\n",
       "      <td>xeRbOKTcZZvk6BI_YQ9Ipw</td>\n",
       "      <td>1.0</td>\n",
       "      <td>terrible service everyone there has a bad atti...</td>\n",
       "      <td>New Orleans</td>\n",
       "      <td>Louisiana</td>\n",
       "      <td>[0.011211632, -0.054489277, -0.06136544, 0.023...</td>\n",
       "      <td>n_Confort</td>\n",
       "    </tr>\n",
       "    <tr>\n",
       "      <th>117677</th>\n",
       "      <td>r6_wKaVLLnYT31oGnxFuHA</td>\n",
       "      <td>5.0</td>\n",
       "      <td>great location close to bourbon street  minute...</td>\n",
       "      <td>New Orleans</td>\n",
       "      <td>Louisiana</td>\n",
       "      <td>[0.04921449, -0.07848664, -0.042117387, 0.0021...</td>\n",
       "      <td>p_Confort</td>\n",
       "    </tr>\n",
       "    <tr>\n",
       "      <th>156460</th>\n",
       "      <td>OZnYatmpbZwbtaFTJlYVhg</td>\n",
       "      <td>1.0</td>\n",
       "      <td>every time i get to a room the first thing i d...</td>\n",
       "      <td>Tampa</td>\n",
       "      <td>Florida</td>\n",
       "      <td>[0.015249598, -0.050747488, -0.04434709, 0.036...</td>\n",
       "      <td>n_Confort</td>\n",
       "    </tr>\n",
       "    <tr>\n",
       "      <th>...</th>\n",
       "      <td>...</td>\n",
       "      <td>...</td>\n",
       "      <td>...</td>\n",
       "      <td>...</td>\n",
       "      <td>...</td>\n",
       "      <td>...</td>\n",
       "      <td>...</td>\n",
       "    </tr>\n",
       "    <tr>\n",
       "      <th>91923</th>\n",
       "      <td>8C0jJ6AmcDZGscuABtZRdQ</td>\n",
       "      <td>5.0</td>\n",
       "      <td>maybe its rated as a three star hotel  if it i...</td>\n",
       "      <td>Tampa</td>\n",
       "      <td>Florida</td>\n",
       "      <td>[0.045517575, -0.07559743, -0.042018212, 0.027...</td>\n",
       "      <td>n_Ambiente</td>\n",
       "    </tr>\n",
       "    <tr>\n",
       "      <th>140228</th>\n",
       "      <td>0x88f5ac62bc6f21cb:0x5ae7bf2041b49721</td>\n",
       "      <td>5.0</td>\n",
       "      <td>clean</td>\n",
       "      <td>Decatur</td>\n",
       "      <td>Georgia</td>\n",
       "      <td>[0.105572395, -0.11329313, -0.1877839, 0.03474...</td>\n",
       "      <td>p_Facilidades</td>\n",
       "    </tr>\n",
       "    <tr>\n",
       "      <th>1109</th>\n",
       "      <td>2tzM3YrsqPa4qPVsfn3-tA</td>\n",
       "      <td>2.0</td>\n",
       "      <td>checked out at am and they had my room cleaned...</td>\n",
       "      <td>Indianapolis</td>\n",
       "      <td>Indiana</td>\n",
       "      <td>[0.012525278, -0.04236787, -0.018842155, 0.042...</td>\n",
       "      <td>n_Confort</td>\n",
       "    </tr>\n",
       "    <tr>\n",
       "      <th>64107</th>\n",
       "      <td>fcohLhqJ5GHOSoJfCcrLUQ</td>\n",
       "      <td>4.0</td>\n",
       "      <td>awesome hotel we got upgraded since it was our...</td>\n",
       "      <td>Tampa</td>\n",
       "      <td>Florida</td>\n",
       "      <td>[0.07335173, -0.09491684, -0.03958444, 0.04021...</td>\n",
       "      <td>n_Ambiente</td>\n",
       "    </tr>\n",
       "    <tr>\n",
       "      <th>89184</th>\n",
       "      <td>4WIsdEah3rDcJwlWbx9P0A</td>\n",
       "      <td>5.0</td>\n",
       "      <td>it couldnt get more convenient than this the h...</td>\n",
       "      <td>Reno</td>\n",
       "      <td>Nevada</td>\n",
       "      <td>[0.04384578, -0.07006836, -0.017514408, 0.0217...</td>\n",
       "      <td>n_Ambiente</td>\n",
       "    </tr>\n",
       "  </tbody>\n",
       "</table>\n",
       "<p>3333 rows × 7 columns</p>\n",
       "</div>"
      ],
      "text/plain": [
       "                                  business_id  rating  \\\n",
       "26421                  Kxg8HBv9X2kfz_JQuZzmDw     3.0   \n",
       "20950                  1I_qcjb-UuAiA7kwT_xPCA     3.0   \n",
       "176884                 xeRbOKTcZZvk6BI_YQ9Ipw     1.0   \n",
       "117677                 r6_wKaVLLnYT31oGnxFuHA     5.0   \n",
       "156460                 OZnYatmpbZwbtaFTJlYVhg     1.0   \n",
       "...                                       ...     ...   \n",
       "91923                  8C0jJ6AmcDZGscuABtZRdQ     5.0   \n",
       "140228  0x88f5ac62bc6f21cb:0x5ae7bf2041b49721     5.0   \n",
       "1109                   2tzM3YrsqPa4qPVsfn3-tA     2.0   \n",
       "64107                  fcohLhqJ5GHOSoJfCcrLUQ     4.0   \n",
       "89184                  4WIsdEah3rDcJwlWbx9P0A     5.0   \n",
       "\n",
       "                                               comentario        ciudad  \\\n",
       "26421   the area is kind of sketchy and when youre fir...   New Orleans   \n",
       "20950   pros\\nawesome indoor and outdoor pool  and ind...     Nashville   \n",
       "176884  terrible service everyone there has a bad atti...   New Orleans   \n",
       "117677  great location close to bourbon street  minute...   New Orleans   \n",
       "156460  every time i get to a room the first thing i d...         Tampa   \n",
       "...                                                   ...           ...   \n",
       "91923   maybe its rated as a three star hotel  if it i...         Tampa   \n",
       "140228                                              clean       Decatur   \n",
       "1109    checked out at am and they had my room cleaned...  Indianapolis   \n",
       "64107   awesome hotel we got upgraded since it was our...         Tampa   \n",
       "89184   it couldnt get more convenient than this the h...          Reno   \n",
       "\n",
       "           estado                                          embedding  \\\n",
       "26421   Louisiana  [0.035103217, -0.080136076, -0.038549528, 0.03...   \n",
       "20950   Tennessee  [0.040991627, -0.056416266, -0.05178736, 0.023...   \n",
       "176884  Louisiana  [0.011211632, -0.054489277, -0.06136544, 0.023...   \n",
       "117677  Louisiana  [0.04921449, -0.07848664, -0.042117387, 0.0021...   \n",
       "156460    Florida  [0.015249598, -0.050747488, -0.04434709, 0.036...   \n",
       "...           ...                                                ...   \n",
       "91923     Florida  [0.045517575, -0.07559743, -0.042018212, 0.027...   \n",
       "140228    Georgia  [0.105572395, -0.11329313, -0.1877839, 0.03474...   \n",
       "1109      Indiana  [0.012525278, -0.04236787, -0.018842155, 0.042...   \n",
       "64107     Florida  [0.07335173, -0.09491684, -0.03958444, 0.04021...   \n",
       "89184      Nevada  [0.04384578, -0.07006836, -0.017514408, 0.0217...   \n",
       "\n",
       "            categoria  \n",
       "26421      n_Ambiente  \n",
       "20950      n_Ambiente  \n",
       "176884      n_Confort  \n",
       "117677      p_Confort  \n",
       "156460      n_Confort  \n",
       "...               ...  \n",
       "91923      n_Ambiente  \n",
       "140228  p_Facilidades  \n",
       "1109        n_Confort  \n",
       "64107      n_Ambiente  \n",
       "89184      n_Ambiente  \n",
       "\n",
       "[3333 rows x 7 columns]"
      ]
     },
     "execution_count": 12,
     "metadata": {},
     "output_type": "execute_result"
    }
   ],
   "source": [
    "df_sample"
   ]
  },
  {
   "cell_type": "code",
   "execution_count": 13,
   "id": "7925a241-7695-4edd-b5f3-61f9d6c645ad",
   "metadata": {},
   "outputs": [
    {
     "data": {
      "text/html": [
       "<div>\n",
       "<style scoped>\n",
       "    .dataframe tbody tr th:only-of-type {\n",
       "        vertical-align: middle;\n",
       "    }\n",
       "\n",
       "    .dataframe tbody tr th {\n",
       "        vertical-align: top;\n",
       "    }\n",
       "\n",
       "    .dataframe thead th {\n",
       "        text-align: right;\n",
       "    }\n",
       "</style>\n",
       "<table border=\"1\" class=\"dataframe\">\n",
       "  <thead>\n",
       "    <tr style=\"text-align: right;\">\n",
       "      <th></th>\n",
       "      <th>comentario</th>\n",
       "      <th>categoria</th>\n",
       "    </tr>\n",
       "  </thead>\n",
       "  <tbody>\n",
       "    <tr>\n",
       "      <th>26421</th>\n",
       "      <td>the area is kind of sketchy and when youre fir...</td>\n",
       "      <td>n_Ambiente</td>\n",
       "    </tr>\n",
       "    <tr>\n",
       "      <th>20950</th>\n",
       "      <td>pros\\nawesome indoor and outdoor pool  and ind...</td>\n",
       "      <td>n_Ambiente</td>\n",
       "    </tr>\n",
       "    <tr>\n",
       "      <th>176884</th>\n",
       "      <td>terrible service everyone there has a bad atti...</td>\n",
       "      <td>n_Confort</td>\n",
       "    </tr>\n",
       "    <tr>\n",
       "      <th>117677</th>\n",
       "      <td>great location close to bourbon street  minute...</td>\n",
       "      <td>p_Confort</td>\n",
       "    </tr>\n",
       "    <tr>\n",
       "      <th>156460</th>\n",
       "      <td>every time i get to a room the first thing i d...</td>\n",
       "      <td>n_Confort</td>\n",
       "    </tr>\n",
       "    <tr>\n",
       "      <th>...</th>\n",
       "      <td>...</td>\n",
       "      <td>...</td>\n",
       "    </tr>\n",
       "    <tr>\n",
       "      <th>91923</th>\n",
       "      <td>maybe its rated as a three star hotel  if it i...</td>\n",
       "      <td>n_Ambiente</td>\n",
       "    </tr>\n",
       "    <tr>\n",
       "      <th>140228</th>\n",
       "      <td>clean</td>\n",
       "      <td>p_Facilidades</td>\n",
       "    </tr>\n",
       "    <tr>\n",
       "      <th>1109</th>\n",
       "      <td>checked out at am and they had my room cleaned...</td>\n",
       "      <td>n_Confort</td>\n",
       "    </tr>\n",
       "    <tr>\n",
       "      <th>64107</th>\n",
       "      <td>awesome hotel we got upgraded since it was our...</td>\n",
       "      <td>n_Ambiente</td>\n",
       "    </tr>\n",
       "    <tr>\n",
       "      <th>89184</th>\n",
       "      <td>it couldnt get more convenient than this the h...</td>\n",
       "      <td>n_Ambiente</td>\n",
       "    </tr>\n",
       "  </tbody>\n",
       "</table>\n",
       "<p>3333 rows × 2 columns</p>\n",
       "</div>"
      ],
      "text/plain": [
       "                                               comentario      categoria\n",
       "26421   the area is kind of sketchy and when youre fir...     n_Ambiente\n",
       "20950   pros\\nawesome indoor and outdoor pool  and ind...     n_Ambiente\n",
       "176884  terrible service everyone there has a bad atti...      n_Confort\n",
       "117677  great location close to bourbon street  minute...      p_Confort\n",
       "156460  every time i get to a room the first thing i d...      n_Confort\n",
       "...                                                   ...            ...\n",
       "91923   maybe its rated as a three star hotel  if it i...     n_Ambiente\n",
       "140228                                              clean  p_Facilidades\n",
       "1109    checked out at am and they had my room cleaned...      n_Confort\n",
       "64107   awesome hotel we got upgraded since it was our...     n_Ambiente\n",
       "89184   it couldnt get more convenient than this the h...     n_Ambiente\n",
       "\n",
       "[3333 rows x 2 columns]"
      ]
     },
     "execution_count": 13,
     "metadata": {},
     "output_type": "execute_result"
    }
   ],
   "source": [
    "df_subset = df_sample[['comentario', 'categoria']]\n",
    "df_subset\n"
   ]
  },
  {
   "cell_type": "code",
   "execution_count": 14,
   "id": "6d9c120f-dcef-4b3f-abbf-edf846af7cac",
   "metadata": {},
   "outputs": [],
   "source": [
    "df_not_sampled = df.drop(df_sample.index)"
   ]
  },
  {
   "cell_type": "code",
   "execution_count": 15,
   "id": "c06bc495-364b-42c1-aba8-02124b380495",
   "metadata": {},
   "outputs": [],
   "source": [
    "df_not_sampled.to_csv('resto_1.csv', index=False)"
   ]
  },
  {
   "cell_type": "code",
   "execution_count": 16,
   "id": "7154ce68-872b-440a-8d62-e4b1d8314b15",
   "metadata": {},
   "outputs": [
    {
     "data": {
      "text/plain": [
       "n_Ambiente                    1826\n",
       "n_Confort                      578\n",
       "n_Valor                        331\n",
       "p_Ambiente                     168\n",
       "n_Suministros                   76\n",
       "n_Servicio                      70\n",
       "n_Ubicación                     59\n",
       "n_Experiencia gastronómica      56\n",
       "p_Valor                         37\n",
       "n_Atención al cliente           34\n",
       "p_Confort                       18\n",
       "p_Facilidades                   18\n",
       "n_Higiene                       16\n",
       "p_Limpieza                      12\n",
       "n_Mantenimiento                 12\n",
       "p_Atención al cliente            8\n",
       "p_Ubicación                      7\n",
       "p_Experiencia gastronómica       3\n",
       "n_Facilidades                    2\n",
       "n_Limpieza                       1\n",
       "n_Aislamiento                    1\n",
       "Name: categoria, dtype: int64"
      ]
     },
     "execution_count": 16,
     "metadata": {},
     "output_type": "execute_result"
    }
   ],
   "source": [
    "# Obtener el conteo de cada categoría\n",
    "conteo_categorias = df_sample['categoria'].value_counts()\n",
    "\n",
    "# Imprimir el conteo de cada categoría\n",
    "conteo_categorias\n"
   ]
  },
  {
   "cell_type": "code",
   "execution_count": 17,
   "id": "237920ab-c35b-4336-97be-0c2bf9034569",
   "metadata": {},
   "outputs": [],
   "source": [
    "#!pip install unidecode"
   ]
  },
  {
   "cell_type": "code",
   "execution_count": 18,
   "id": "5e9df840-5c59-4201-bab9-158439b77e03",
   "metadata": {},
   "outputs": [
    {
     "name": "stdout",
     "output_type": "stream",
     "text": [
      "n_Ambiente                    1826\n",
      "n_Confort                      578\n",
      "n_Valor                        331\n",
      "p_Ambiente                     168\n",
      "n_Suministros                   76\n",
      "n_Servicio                      70\n",
      "n_Ubicacion                     59\n",
      "n_Experiencia gastronomica      56\n",
      "p_Valor                         37\n",
      "n_Atencion al cliente           34\n",
      "p_Confort                       18\n",
      "p_Facilidades                   18\n",
      "n_Higiene                       16\n",
      "p_Limpieza                      12\n",
      "n_Mantenimiento                 12\n",
      "p_Atencion al cliente            8\n",
      "p_Ubicacion                      7\n",
      "p_Experiencia gastronomica       3\n",
      "n_Facilidades                    2\n",
      "n_Limpieza                       1\n",
      "n_Aislamiento                    1\n",
      "Name: categoria, dtype: int64\n"
     ]
    }
   ],
   "source": [
    "import unidecode\n",
    "\n",
    "def remove_accents(input_str):\n",
    "    return unidecode.unidecode(input_str)\n",
    "\n",
    "# Aplica la función para quitar acentos en la columna 'categoria'\n",
    "df_sample['categoria'] = df_sample['categoria'].apply(remove_accents)\n",
    "\n",
    "# Verificar las categorías después de quitar los acentos\n",
    "print(df_sample['categoria'].value_counts())\n"
   ]
  },
  {
   "cell_type": "code",
   "execution_count": 19,
   "id": "443619d1-e625-4681-97a4-c45cca6102af",
   "metadata": {},
   "outputs": [
    {
     "name": "stdout",
     "output_type": "stream",
     "text": [
      "n_Ambiente                    1826\n",
      "n_Confort                      578\n",
      "n_Valor                        331\n",
      "p_Ambiente                     168\n",
      "n_Suministros                   76\n",
      "n_Servicio                      70\n",
      "n_Ubicacion                     59\n",
      "n_Experiencia_gastronomica      56\n",
      "p_Valor                         37\n",
      "n_Atencion_al_cliente           34\n",
      "p_Confort                       18\n",
      "p_Facilidades                   18\n",
      "n_Higiene                       16\n",
      "p_Limpieza                      12\n",
      "n_Mantenimiento                 12\n",
      "p_Atencion_al_cliente            8\n",
      "p_Ubicacion                      7\n",
      "p_Experiencia_gastronomica       3\n",
      "n_Facilidades                    2\n",
      "n_Limpieza                       1\n",
      "n_Aislamiento                    1\n",
      "Name: categoria, dtype: int64\n"
     ]
    }
   ],
   "source": [
    "df_sample['categoria'] = df_sample['categoria'].str.replace(' ', '_')\n",
    "\n",
    "# Verificar las categorías después de reemplazar los espacios\n",
    "print(df_sample['categoria'].value_counts())\n"
   ]
  },
  {
   "cell_type": "code",
   "execution_count": 20,
   "id": "981da340-7243-4059-a6b2-db0b304955a7",
   "metadata": {},
   "outputs": [],
   "source": [
    "df_export = df_sample[['comentario', 'categoria']].copy()\n",
    "df_export['comentario'] = df_export['comentario'].astype(str)\n",
    "df_export.to_parquet('muestra_etiquetas_1.parquet', index=False)\n"
   ]
  },
  {
   "cell_type": "code",
   "execution_count": 21,
   "id": "ebaec393-832d-4fd6-b21d-de069469c35c",
   "metadata": {},
   "outputs": [],
   "source": [
    "s1 = pd.read_parquet(\"muestra_etiquetas_1.parquet\")"
   ]
  },
  {
   "cell_type": "code",
   "execution_count": 22,
   "id": "15bef1fc-ad3a-4306-906d-6df2564ed682",
   "metadata": {},
   "outputs": [
    {
     "name": "stdout",
     "output_type": "stream",
     "text": [
      "Número inicial de valores NaN en 'comentario': 0\n"
     ]
    }
   ],
   "source": [
    "initial_nan_count = s1['comentario'].isna().sum()\n",
    "print(\"Número inicial de valores NaN en 'comentario':\", initial_nan_count)\n"
   ]
  },
  {
   "cell_type": "code",
   "execution_count": 23,
   "id": "c8f9bff0-79cb-4a33-856b-6e6ba8ac10aa",
   "metadata": {},
   "outputs": [
    {
     "name": "stdout",
     "output_type": "stream",
     "text": [
      "Número inicial de valores NaN en 'comentario': 0\n"
     ]
    }
   ],
   "source": [
    "initial_nan_count = df_sample['comentario'].isna().sum()\n",
    "print(\"Número inicial de valores NaN en 'comentario':\", initial_nan_count)\n"
   ]
  },
  {
   "cell_type": "code",
   "execution_count": 24,
   "id": "52ecab2d-dfef-4f34-b5a5-50af5342b126",
   "metadata": {},
   "outputs": [
    {
     "name": "stdout",
     "output_type": "stream",
     "text": [
      "Número inicial de valores NaN en 'comentario': 0\n"
     ]
    }
   ],
   "source": [
    "initial_nan_count = df_export['comentario'].isna().sum()\n",
    "print(\"Número inicial de valores NaN en 'comentario':\", initial_nan_count)\n"
   ]
  },
  {
   "cell_type": "code",
   "execution_count": 25,
   "id": "83387fec-7d5a-47ad-8538-02d19e7d56c1",
   "metadata": {},
   "outputs": [
    {
     "name": "stdout",
     "output_type": "stream",
     "text": [
      "Número de registros con cadena vacía en 'comentario': 0\n"
     ]
    }
   ],
   "source": [
    "empty_strings_count = (df_sample['comentario'] == '').sum()\n",
    "print(\"Número de registros con cadena vacía en 'comentario':\", empty_strings_count)\n"
   ]
  },
  {
   "cell_type": "code",
   "execution_count": null,
   "id": "5a7ae7e0-590c-4e53-8665-2f4ef7b329b3",
   "metadata": {},
   "outputs": [],
   "source": []
  }
 ],
 "metadata": {
  "kernelspec": {
   "display_name": "Python 3 (ipykernel)",
   "language": "python",
   "name": "python3"
  },
  "language_info": {
   "codemirror_mode": {
    "name": "ipython",
    "version": 3
   },
   "file_extension": ".py",
   "mimetype": "text/x-python",
   "name": "python",
   "nbconvert_exporter": "python",
   "pygments_lexer": "ipython3",
   "version": "3.11.4"
  }
 },
 "nbformat": 4,
 "nbformat_minor": 5
}
