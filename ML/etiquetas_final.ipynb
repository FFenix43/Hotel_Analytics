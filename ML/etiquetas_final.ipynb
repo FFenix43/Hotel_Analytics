{
 "cells": [
  {
   "cell_type": "markdown",
   "id": "480cebd3-f4ce-4300-a662-fdf6180232f7",
   "metadata": {},
   "source": [
    "## Cómo llegamos aquí\n",
    "\n",
    "Con el objetivo de lograr una etiquetación diversa y representativa de nuestras reseñas, aplicamos un proceso de vectorización, generación de embeddings y asignación de etiquetas utilizando similitud de coseno, tal como se detalla en el notebook \"etiquetas_parte_1\". Sin embargo, debido a restricciones de hardware del equipo utilizado, no fue posible procesar todo el conjunto de datos simultáneamente. Por ello, optamos por un enfoque escalonado:\n",
    "\n",
    "Primera Iteración: Tomamos una muestra representativa del 2% del total de reseñas y la procesamos conforme al procedimiento establecido en \"etiquetas_parte_1\".\n",
    "\n",
    "Preparación para la Segunda Iteración: Una vez finalizado el procesamiento de la primera muestra, se eliminaron esos registros del dataframe fuente para asegurar que no se procesaran de nuevo.\n",
    "\n",
    "Segunda Iteración (Resto_1): Sobre el conjunto de datos resultante, que hemos denominado \"resto_1\", aplicamos el mismo procedimiento de etiquetado.\n",
    "\n",
    "Preparación para la Tercera Iteración: Después de procesar \"resto_1\", se eliminaron esos registros del dataframe fuente.\n",
    "\n",
    "Tercera Iteración (Resto_2): Finalmente, se procedió con el procesamiento de \"resto_2\", aplicando nuevamente el proceso de etiquetado.\n",
    "\n",
    "Tras culminar estas tres etapas, consolidamos los resultados de las tres muestras y los exportamos en un único archivo CSV.\n",
    "\n",
    "La principal razón para adoptar este enfoque por etapas fue técnica: el equipo en el que se realizó la ejecución tiene limitaciones en cuanto al rendimiento, y se arriesgaba a congelarse si se superaba cierto umbral en el uso de recursos. Esta metodología escalonada nos permitió optimizar el procesamiento sin comprometer la integridad del sistema.\n",
    "\n",
    "## Qué hacemos aquí\n",
    "\n",
    "\n",
    "El sistema autoLM de Google Cloud Platform sugiere que las categorías de etiquetado tengan al menos 100 registros para garantizar que el modelo resultante sea robusto y preciso. Esta recomendación se basa en la necesidad de que el modelo tenga suficiente diversidad y cantidad de ejemplos para cada categoría, lo que le permite aprender y generalizar con eficacia las características distintivas asociadas con cada etiqueta.\n",
    "\n",
    "#### Motivo para adoptar esta recomendación:\n",
    "\n",
    "Robustez del modelo: Modelos entrenados con una cantidad suficiente de datos para cada categoría son menos propensos a sobreajustarse (overfitting) a las características particulares de una muestra pequeña, lo que podría hacer que el modelo sea ineficaz con datos no vistos.\n",
    "\n",
    "Confianza en las predicciones: Al tener una representación adecuada para cada categoría, se incrementa la confianza en que las predicciones del modelo reflejen las verdaderas características de los datos y no anomalías derivadas de una muestra insuficiente.\n",
    "\n",
    "Mejor generalización: Con más ejemplos, el modelo tiene una mejor oportunidad de captar la variabilidad y las sutilezas asociadas con cada etiqueta.\n",
    "\n",
    "#### Decisión de eliminar categorías con menos de 100 registros:\n",
    "\n",
    "Basándonos en las recomendaciones de autoLM y los puntos anteriores, decidimos eliminar registros con categorías con menos de 100 ejemplos en nuestra muestra final. Esta decisión tiene múltiples beneficios:\n",
    "\n",
    "Calidad sobre cantidad: Al centrarnos solo en las categorías con una cantidad adecuada de registros, aseguramos que las etiquetas utilizadas para entrenar el modelo sean representativas y robustas.\n",
    "\n",
    "Evitar ruido y distracciones: Al eliminar categorías con escasos ejemplos, reducimos el riesgo de introducir ruido en el modelo, que podría resultar en predicciones imprecisas.\n",
    "\n",
    "Optimización del tiempo y recursos: La formación de un modelo en categorías con escasos ejemplos podría requerir más tiempo y recursos para lograr una precisión aceptable, si es que se logra.\n"
   ]
  },
  {
   "cell_type": "code",
   "execution_count": 1,
   "id": "2a45a597-113b-4d5d-8834-4836d6e2909c",
   "metadata": {},
   "outputs": [],
   "source": [
    "import pandas as pd\n",
    "df = pd.read_csv(\"muestra_etiquetas_3.csv\")"
   ]
  },
  {
   "cell_type": "code",
   "execution_count": 2,
   "id": "2c40027a-991f-4048-af5a-fa2e204928ff",
   "metadata": {},
   "outputs": [
    {
     "data": {
      "text/plain": [
       "(9800, 2)"
      ]
     },
     "execution_count": 2,
     "metadata": {},
     "output_type": "execute_result"
    }
   ],
   "source": [
    "df.shape"
   ]
  },
  {
   "cell_type": "code",
   "execution_count": 3,
   "id": "85574ebf-e0ae-4565-9d9a-d9c0fd54a8b4",
   "metadata": {},
   "outputs": [
    {
     "name": "stdout",
     "output_type": "stream",
     "text": [
      "<class 'pandas.core.frame.DataFrame'>\n",
      "RangeIndex: 9800 entries, 0 to 9799\n",
      "Data columns (total 2 columns):\n",
      " #   Column      Non-Null Count  Dtype \n",
      "---  ------      --------------  ----- \n",
      " 0   comentario  9799 non-null   object\n",
      " 1   categoria   9800 non-null   object\n",
      "dtypes: object(2)\n",
      "memory usage: 153.3+ KB\n"
     ]
    }
   ],
   "source": [
    "df.info()"
   ]
  },
  {
   "cell_type": "code",
   "execution_count": 5,
   "id": "203823d0-72c5-40be-a34e-6ff85477102b",
   "metadata": {},
   "outputs": [
    {
     "name": "stdout",
     "output_type": "stream",
     "text": [
      "n_Ambiente                    2943\n",
      "n_Valor                       1424\n",
      "n_Confort                     1371\n",
      "n_Suministros                 1231\n",
      "n_Servicio                    1069\n",
      "p_Ambiente                     848\n",
      "n_Ubicacion                    190\n",
      "p_Confort                      156\n",
      "n_Experiencia_gastronomica     118\n",
      "n_Mantenimiento                112\n",
      "p_Valor                        103\n",
      "Name: categoria, dtype: int64\n"
     ]
    }
   ],
   "source": [
    "# Obtener el conteo de cada categoría desde el DataFrame actual\n",
    "conteo_categorias = df['categoria'].value_counts()\n",
    "\n",
    "# Identifica las categorías con menos de 100 registros\n",
    "categorias_a_eliminar = conteo_categorias[conteo_categorias < 100].index.tolist()\n",
    "\n",
    "# Filtra el DataFrame para excluir las categorías identificadas\n",
    "df_final = df[~df['categoria'].isin(categorias_a_eliminar)]\n",
    "\n",
    "# Verifica el conteo de las categorías después de la eliminación\n",
    "print(df_final['categoria'].value_counts())\n"
   ]
  },
  {
   "cell_type": "code",
   "execution_count": 7,
   "id": "01f9ecc4-2384-4d1b-a04d-8e7ea1bee885",
   "metadata": {},
   "outputs": [
    {
     "data": {
      "text/plain": [
       "(9565, 2)"
      ]
     },
     "execution_count": 7,
     "metadata": {},
     "output_type": "execute_result"
    }
   ],
   "source": [
    "df_final.shape"
   ]
  },
  {
   "cell_type": "code",
   "execution_count": 8,
   "id": "c1328949-544f-4824-9fdd-3a656c93e27b",
   "metadata": {},
   "outputs": [
    {
     "name": "stdout",
     "output_type": "stream",
     "text": [
      "Número inicial de valores NaN en 'comentario': 0\n"
     ]
    }
   ],
   "source": [
    "initial_nan_count = df_final['comentario'].isna().sum()\n",
    "print(\"Número inicial de valores NaN en 'comentario':\", initial_nan_count)"
   ]
  },
  {
   "cell_type": "code",
   "execution_count": 9,
   "id": "01517a40-b53a-4b9e-b281-a0de20f53524",
   "metadata": {},
   "outputs": [
    {
     "data": {
      "text/html": [
       "<div>\n",
       "<style scoped>\n",
       "    .dataframe tbody tr th:only-of-type {\n",
       "        vertical-align: middle;\n",
       "    }\n",
       "\n",
       "    .dataframe tbody tr th {\n",
       "        vertical-align: top;\n",
       "    }\n",
       "\n",
       "    .dataframe thead th {\n",
       "        text-align: right;\n",
       "    }\n",
       "</style>\n",
       "<table border=\"1\" class=\"dataframe\">\n",
       "  <thead>\n",
       "    <tr style=\"text-align: right;\">\n",
       "      <th></th>\n",
       "      <th>comentario</th>\n",
       "      <th>categoria</th>\n",
       "    </tr>\n",
       "  </thead>\n",
       "  <tbody>\n",
       "    <tr>\n",
       "      <th>0</th>\n",
       "      <td>my wife and i have stayed at a lot of hotels b...</td>\n",
       "      <td>n_Servicio</td>\n",
       "    </tr>\n",
       "    <tr>\n",
       "      <th>1</th>\n",
       "      <td>i brought my bf here for his birthday weekend ...</td>\n",
       "      <td>n_Suministros</td>\n",
       "    </tr>\n",
       "    <tr>\n",
       "      <th>2</th>\n",
       "      <td>do not stay here i am stuck here for the next ...</td>\n",
       "      <td>n_Suministros</td>\n",
       "    </tr>\n",
       "    <tr>\n",
       "      <th>3</th>\n",
       "      <td>i actually worked here in  while in college go...</td>\n",
       "      <td>p_Ambiente</td>\n",
       "    </tr>\n",
       "    <tr>\n",
       "      <th>4</th>\n",
       "      <td>clean updated and affordable owner is super ni...</td>\n",
       "      <td>n_Ambiente</td>\n",
       "    </tr>\n",
       "  </tbody>\n",
       "</table>\n",
       "</div>"
      ],
      "text/plain": [
       "                                          comentario      categoria\n",
       "0  my wife and i have stayed at a lot of hotels b...     n_Servicio\n",
       "1  i brought my bf here for his birthday weekend ...  n_Suministros\n",
       "2  do not stay here i am stuck here for the next ...  n_Suministros\n",
       "3  i actually worked here in  while in college go...     p_Ambiente\n",
       "4  clean updated and affordable owner is super ni...     n_Ambiente"
      ]
     },
     "execution_count": 9,
     "metadata": {},
     "output_type": "execute_result"
    }
   ],
   "source": [
    "df_final.head(5)"
   ]
  },
  {
   "cell_type": "code",
   "execution_count": 10,
   "id": "66c25109-fe95-4e21-b227-01607bf77ffa",
   "metadata": {},
   "outputs": [],
   "source": [
    "df_final.to_csv('muestra_etiquetas_final.csv', index=False, encoding='utf-8')"
   ]
  },
  {
   "cell_type": "code",
   "execution_count": 11,
   "id": "24fb1e19-78d3-45b5-bd3b-f34b73922298",
   "metadata": {},
   "outputs": [],
   "source": [
    "sp1 = pd.read_csv(\"muestra_etiquetas_final.csv\")"
   ]
  },
  {
   "cell_type": "code",
   "execution_count": 12,
   "id": "e709c662-2591-4203-9838-587843e660d1",
   "metadata": {},
   "outputs": [
    {
     "name": "stdout",
     "output_type": "stream",
     "text": [
      "Número inicial de valores NaN en 'comentario': 0\n"
     ]
    }
   ],
   "source": [
    "initial_nan_count = sp1['comentario'].isna().sum()\n",
    "print(\"Número inicial de valores NaN en 'comentario':\", initial_nan_count)"
   ]
  },
  {
   "cell_type": "code",
   "execution_count": 14,
   "id": "8a7f9d07-f7f0-4ddc-b668-ff2acbf15b65",
   "metadata": {},
   "outputs": [],
   "source": [
    "df_final.to_csv('reviews_etiquetas_final.csv', index=False, header=False)"
   ]
  },
  {
   "cell_type": "code",
   "execution_count": null,
   "id": "10b2cab9-ad24-4c79-9caa-15651a27d7a5",
   "metadata": {},
   "outputs": [],
   "source": []
  }
 ],
 "metadata": {
  "kernelspec": {
   "display_name": "Python 3 (ipykernel)",
   "language": "python",
   "name": "python3"
  },
  "language_info": {
   "codemirror_mode": {
    "name": "ipython",
    "version": 3
   },
   "file_extension": ".py",
   "mimetype": "text/x-python",
   "name": "python",
   "nbconvert_exporter": "python",
   "pygments_lexer": "ipython3",
   "version": "3.11.4"
  }
 },
 "nbformat": 4,
 "nbformat_minor": 5
}
