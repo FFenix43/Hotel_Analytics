{
  "nbformat": 4,
  "nbformat_minor": 0,
  "metadata": {
    "colab": {
      "provenance": []
    },
    "kernelspec": {
      "name": "python3",
      "display_name": "Python 3"
    },
    "language_info": {
      "name": "python"
    }
  },
  "cells": [
    {
      "cell_type": "markdown",
      "source": [
        "#Contexto\n",
        "\n",
        "En este proyecto se tienen varias fuentes de datos, entre ellas está la base de datos de Google Maps en la cual se tiene información relacionada con diferentes rubros. En este caso nos centraremos en los negocios relacionados con la hotelería, restaurantes y el turismo. Para ello contamos con un archivo que contiene información sobre los negocios en Estados Unidos y una carpeta con los reviews por cada estado."
      ],
      "metadata": {
        "id": "-8YEa4d5HWYn"
      }
    },
    {
      "cell_type": "markdown",
      "source": [
        "Dada la cantidad de datos que tiene cada carpeta, se hace necesario filtrar por los rubros de nuestro interés. Lo primero que hacemos es conectarnos a la fuente de datos desde Google Drive y extraer la carpeta `metadata-sitios`"
      ],
      "metadata": {
        "id": "2EqlLkeEHTZ7"
      }
    },
    {
      "cell_type": "code",
      "execution_count": null,
      "metadata": {
        "id": "9fd559ed"
      },
      "outputs": [],
      "source": [
        "from collections import OrderedDict\n",
        "import numpy as np\n",
        "import pandas as pd\n",
        "import requests\n",
        "import json\n",
        "import os"
      ]
    },
    {
      "cell_type": "code",
      "execution_count": null,
      "metadata": {
        "colab": {
          "base_uri": "https://localhost:8080/"
        },
        "id": "5IKqwlAbpKl_",
        "outputId": "13f2cb0d-204b-468d-c864-4fd9db719fd0"
      },
      "outputs": [
        {
          "output_type": "stream",
          "name": "stdout",
          "text": [
            "Mounted at /content/drive\n"
          ]
        }
      ],
      "source": [
        "from google.colab import drive\n",
        "drive.mount('/content/drive')"
      ]
    },
    {
      "cell_type": "code",
      "execution_count": null,
      "metadata": {
        "id": "E14uMdv5A9xq"
      },
      "outputs": [],
      "source": [
        "ruta_carpeta = '/content/drive/MyDrive/Colab Notebooks/Google Maps/metadata-sitios'"
      ]
    },
    {
      "cell_type": "markdown",
      "source": [
        "Poteriormente creamos las funciones necesarias para leer y filtrar cada archivo por categoría que esté contenido dentro de la carpeta."
      ],
      "metadata": {
        "id": "DzvWfGyIJTOJ"
      }
    },
    {
      "cell_type": "code",
      "execution_count": null,
      "metadata": {
        "id": "AvZvQ20n-uxH"
      },
      "outputs": [],
      "source": [
        "def leer_archivo(ruta_archivo):\n",
        "\n",
        "  with open(ruta_archivo, 'r') as file:\n",
        "    contenido = [json.loads(linea) for linea in file]\n",
        "\n",
        "  return contenido"
      ]
    },
    {
      "cell_type": "code",
      "execution_count": null,
      "metadata": {
        "id": "Q0HhmQar6j3K"
      },
      "outputs": [],
      "source": [
        "def filtrar_archivo(archivo):\n",
        "\n",
        "  lista_filtrada = []\n",
        "  for registro in archivo:\n",
        "      if isinstance(registro['category'], list):\n",
        "          contador = 0\n",
        "          for palabra in registro['category']:\n",
        "              if palabra.find('restaurant') != -1 or palabra.find('Restaurant') != -1:\n",
        "                  contador +=1\n",
        "              elif palabra.find('hotel') != -1 or palabra.find('Hotel') != -1:\n",
        "                  contador +=1\n",
        "          if contador >= 1:\n",
        "            lista_filtrada.append(registro)\n",
        "\n",
        "  return lista_filtrada"
      ]
    },
    {
      "cell_type": "markdown",
      "source": [
        "El siguiente codigo itera sobre la carpeta y aplica las funciones de lectura y filtrado devolviendo en la variable `metadata_sitios_final` todos los registros."
      ],
      "metadata": {
        "id": "roX9yn64KRVg"
      }
    },
    {
      "cell_type": "code",
      "execution_count": null,
      "metadata": {
        "id": "yD5NqEN0C-oU"
      },
      "outputs": [],
      "source": [
        "metadata_sitios_final =[]\n",
        "for archivo in os.listdir(ruta_carpeta):\n",
        "  ruta_archivo = os.path.join(ruta_carpeta, archivo)\n",
        "  contenido = leer_archivo(ruta_archivo)\n",
        "  lista_filtrada = filtrar_archivo(contenido)\n",
        "  metadata_sitios_final.extend(lista_filtrada)"
      ]
    },
    {
      "cell_type": "markdown",
      "source": [
        "Una vez tenemos todos los registros en la variable, aplicamos el código a continuación para quedarnos solamente con los registros únicos."
      ],
      "metadata": {
        "id": "Da6nXtIeLYmt"
      }
    },
    {
      "cell_type": "code",
      "execution_count": null,
      "metadata": {
        "id": "UKhVxfWyW1Ob"
      },
      "outputs": [],
      "source": [
        "metadata_sitios_filtrado = list(OrderedDict((str(d), d) for d in metadata_sitios_final).values())"
      ]
    },
    {
      "cell_type": "code",
      "execution_count": null,
      "metadata": {
        "colab": {
          "base_uri": "https://localhost:8080/"
        },
        "id": "rsb1x3cMc0yN",
        "outputId": "114729fa-1ddc-4284-8f47-2ebbe8ca3121"
      },
      "outputs": [
        {
          "data": {
            "text/plain": [
              "218432"
            ]
          },
          "execution_count": 193,
          "metadata": {},
          "output_type": "execute_result"
        }
      ],
      "source": [
        "len(metadata_sitios_filtrado)"
      ]
    },
    {
      "cell_type": "markdown",
      "source": [
        "De los registros obtenidos eliminamos las claves`MISC` y `hours` debido a que son valores que tienen registros anidados y presentan problemas a la hora de cargar estos datos en Google Cloud Platform."
      ],
      "metadata": {
        "id": "9IyIlw5AMxYu"
      }
    },
    {
      "cell_type": "code",
      "source": [
        "metadata_sin_anidado = [{k: v for k, v in registro.items() if k not in [\"MISC\", \"hours\"]} for registro in metadata_sitios_filtrado]"
      ],
      "metadata": {
        "id": "TuSSXo-TlVaK"
      },
      "execution_count": null,
      "outputs": []
    },
    {
      "cell_type": "markdown",
      "source": [
        "Para terminar con los datos de esta variable, la convertimos en un archivo JSONL, el cual es el tipo de archivo que admite Google Cloud Platform."
      ],
      "metadata": {
        "id": "PyjFy62UOUz0"
      }
    },
    {
      "cell_type": "code",
      "execution_count": null,
      "metadata": {
        "id": "oimV7HAH14kt"
      },
      "outputs": [],
      "source": [
        "# Convierte la lista de objetos JSON en un archivo JSONL\n",
        "\n",
        "with open('/content/drive/MyDrive/business_google.jsonl', 'w') as jsonl_file:\n",
        "    for item in metadata_sin_anidado:\n",
        "        jsonl_file.write(json.dumps(item) + '\\n')"
      ]
    },
    {
      "cell_type": "code",
      "execution_count": null,
      "metadata": {
        "colab": {
          "base_uri": "https://localhost:8080/"
        },
        "id": "Ae6xZ6eQ-fF7",
        "outputId": "db02a3b2-2b3e-4244-8767-7a9cacc302c6"
      },
      "outputs": [
        {
          "output_type": "execute_result",
          "data": {
            "text/plain": [
              "{'name': 'San Soo Dang',\n",
              " 'address': 'San Soo Dang, 761 S Vermont Ave, Los Angeles, CA 90005',\n",
              " 'gmap_id': '0x80c2c778e3b73d33:0xbdc58662a4a97d49',\n",
              " 'description': None,\n",
              " 'latitude': 34.0580917,\n",
              " 'longitude': -118.2921295,\n",
              " 'category': ['Korean restaurant'],\n",
              " 'avg_rating': 4.4,\n",
              " 'num_of_reviews': 18,\n",
              " 'price': None,\n",
              " 'state': 'Open ⋅ Closes 6PM',\n",
              " 'relative_results': ['0x80c2c78249aba68f:0x35bf16ce61be751d',\n",
              "  '0x80c2c79998f75fff:0xd7ca5c67e96fb778',\n",
              "  '0x80c2b899146d7507:0xf4162c12c9cf65f8',\n",
              "  '0x80c2c77f2d419951:0x26285631b21e324c',\n",
              "  '0x80c2b8add9016015:0x15836f81a963b35f'],\n",
              " 'url': 'https://www.google.com/maps/place//data=!4m2!3m1!1s0x80c2c778e3b73d33:0xbdc58662a4a97d49?authuser=-1&hl=en&gl=us'}"
            ]
          },
          "metadata": {},
          "execution_count": 4
        }
      ],
      "source": [
        "url ='/content/drive/MyDrive/Colab Notebooks/Google_maps_filtrado/business_google.jsonl'\n",
        "\n",
        "with open(url) as archivo_json:\n",
        "\n",
        "    business = datos_lista = [json.loads(linea) for linea in archivo_json]\n",
        "\n",
        "business[0]"
      ]
    },
    {
      "cell_type": "markdown",
      "source": [
        "De los datos obtenidos anteriormente nos quedaremos con `gmap_id` cuya información coincide con los de la segunda carpeta `reviews-estados`. En la carpeta reviews estados se incluyen otras 51 carpetas que contienen la información de cada estado, a su vez la carpeta de cada estado contiene varios archivos JSON con las reviews.\n",
        "\n",
        "Para hacer más fácil la carga de todos estos datos a Google Cloud Platform, filtraremos todos estos archivos por las categorías de restaurantes y hoteles. Para ello usaremos el campo `gmap_id` del archivo que cargamos anteriormente. Al estar filtrado ya este archivo solo debemos buscar los códigos de `gmap_id` en los archivos de reviews por estado que se incluyan en la siguiente lista."
      ],
      "metadata": {
        "id": "pPTCg6fMPVmo"
      }
    },
    {
      "cell_type": "code",
      "execution_count": null,
      "metadata": {
        "id": "JEcvl3yg57lI"
      },
      "outputs": [],
      "source": [
        "lista_gmap_id = []\n",
        "for registro in business:\n",
        "  lista_gmap_id.append(registro['gmap_id'])"
      ]
    },
    {
      "cell_type": "markdown",
      "source": [
        "Para filtrar y juntar todos los archivos de cada estado y obtener uno solo usaremos el código a continuación que automatiza gran parte del proceso accediendo a la carpeta de cada estado para filtrar y agregar cada archivo. Adicionalmente agrega el campo “estado”.\n",
        "\n",
        "Debido al costo computacional se ejecuta el código con los reviews de 17 estados y se van cargando a un archivo json."
      ],
      "metadata": {
        "id": "a0F4BhmTTBG8"
      }
    },
    {
      "cell_type": "code",
      "execution_count": null,
      "metadata": {
        "id": "3rMOLK85o7b9"
      },
      "outputs": [],
      "source": [
        "lista_gmap_id_set = set(lista_gmap_id)\n",
        "\n",
        "# Ruta de la carpeta \"reviews-estados\" en Google Drive\n",
        "ruta_carpeta_estados = '/content/drive/MyDrive/Colab Notebooks/Google Maps/reviews-estados'\n",
        "\n",
        "# Función para combinar los archivos JSON de un estado\n",
        "def combinar_archivos_json(carpeta_estado):\n",
        "    ruta_carpeta_estado = os.path.join(ruta_carpeta_estados, carpeta_estado)\n",
        "    data_estado = []\n",
        "    for archivo in os.listdir(ruta_carpeta_estado):\n",
        "        if archivo.endswith('.json'):\n",
        "            ruta_archivo = os.path.join(ruta_carpeta_estado, archivo)\n",
        "            with open(ruta_archivo, 'r') as file:\n",
        "                contenido = [json.loads(linea) for linea in file]\n",
        "                sin_duplicados = list(OrderedDict((str(d), d) for d in contenido).values())\n",
        "                for registro in sin_duplicados:\n",
        "                  if registro['gmap_id'] in lista_gmap_id_set:\n",
        "                      data_estado.append(registro)\n",
        "    return data_estado\n",
        "\n",
        "# Combinar los archivos JSON de cada estado y agregar el campo de estado\n",
        "datos_totales = []\n",
        "for estado in os.listdir(ruta_carpeta_estados)[:17]:\n",
        "    datos_estado = combinar_archivos_json(estado)\n",
        "    for registro in datos_estado:\n",
        "        registro['estado'] = estado\n",
        "    datos_totales.extend(datos_estado)"
      ]
    },
    {
      "cell_type": "code",
      "execution_count": null,
      "metadata": {
        "id": "XW0Ff3YzB-8h"
      },
      "outputs": [],
      "source": [
        "# Convierte la lista de objetos JSON en un archivo JSONL\n",
        "\n",
        "with open('/content/drive/MyDrive/reviews_estados_3.jsonl', 'w') as jsonl_file:\n",
        "    for item in datos_totales:\n",
        "        jsonl_file.write(json.dumps(item) + '\\n')"
      ]
    },
    {
      "cell_type": "code",
      "execution_count": null,
      "metadata": {
        "colab": {
          "base_uri": "https://localhost:8080/"
        },
        "id": "Lx_Hi5Xwb-4q",
        "outputId": "270aebd4-24d6-4e11-a2db-92dd0152816e"
      },
      "outputs": [
        {
          "output_type": "execute_result",
          "data": {
            "text/plain": [
              "3661175"
            ]
          },
          "metadata": {},
          "execution_count": 9
        }
      ],
      "source": [
        "len(datos_totales)"
      ]
    }
  ]
}